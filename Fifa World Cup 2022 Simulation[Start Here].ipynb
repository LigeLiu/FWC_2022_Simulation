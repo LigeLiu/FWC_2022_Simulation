{
 "cells": [
  {
   "cell_type": "markdown",
   "metadata": {},
   "source": [
    "# BAMS 503 Simulation Modeling: Final Project<br> Simulation Model for 2022 FIFA World Cup\n",
    "\n",
    "## Authors\n",
    "+ Muhammad Faisal\n",
    "+ Carlos Nako\n",
    "+ Sotirios Valozos\n",
    "+ Islam Shaalan\n",
    "+ Lige Liu\n",
    "\n",
    "## Table of Content\n",
    "  - [Introduction](#introduction)\n",
    "  - [Data](#data)\n",
    "  - [Methodology](#methodology)\n",
    "  - [Simulation Model](#simulation-model)\n",
    "  - [Result](#result)\n",
    "  - [Conclusion](#conclusion)\n",
    "  - [Discussions](#discussions)\n",
    "  - [References](#references)\n",
    "\n",
    "## Introduction\n",
    "The 2022 FIFA World Cup is scheduled to be the 22nd running of the FIFA World Cup competition, the quadrennial international men’s association football (commonly known as soccer in North America) championship contested by the national teams of the member associations of FIFA, the international governing body of the sport of soccer [1]. In 2022, 32 teams will compete in Qatar and play in a total of 64 matches for the final championship.\n",
    "\n",
    "As the most prestigious soccer tournament and one of the most followed sporting events in the world, the game results are highly anticipated. In this project, we built a simulation model in an attempt to predict the result of the championship, including the champion, the runner-up, and the teams entering the elimination rounds. We utilized concepts of Monte Carlo Simulation in BAMS 503 and previous research in modeling soccer match outcomes to predict the outcome of each of the 64 matches.\n",
    "\n",
    "The tournament consists of two stages: the group stage and the knockout stage. The tournament will begin with a group stage with 8 groups of 4 teams. Each group will play in a single round-robin format with a points-based ranking system to determine the top two qualifiers for the knockout stage. In the knockout stage, each team will play in an elimination format to determine the champion. The losing teams in the semi-finals will play a third-place play-off. Teams not qualifying for the knockout stage and teams lost before the semi-finals will exit the tournament.\n",
    "\n",
    "As of April 2022, even though the final draw of the tournament has been completed, three qualifying teams have not yet been determined. Two winners of the inter-confederation play-offs and the winner of the Path A of the UEFA play-offs will qualify for the World Cup and the matches will happen in June 2022. In this project, we determined three teams to play in the World Cup arbitrarily for simplicity.\n",
    "\n",
    "## Data\n",
    "In order to model the match outcomes, we used the dataset [International football results from 1872 to 2021](https://www.kaggle.com/datasets/martj42/international-football-results-from-1872-to-2017) [2] accessed from Kaggle. The dataset includes the date, teams, scores, tournament, and location information of 43170 international soccer matches.\n",
    "\n",
    "The groups and the schedule of the tournament come from [FIFA World Cup Qatar 2022 – Match Schedule](https://digitalhub.fifa.com/m/6a616c6cf19bc57a/original/FWC-2022-Match-Schedule.pdf) [3] published by FIFA.\n",
    "\n",
    "## Methodology\n",
    "In the group stage, the ranking of teams in the group is determined by the following rules [2]:\n",
    "1.\tPoints obtained in all group matches;\n",
    "2.\tGoal difference in all group matches;\n",
    "3.\tNumber of goals scored in all group matches;\n",
    "4.\tPoints obtained in the matches played between the teams in question;\n",
    "5.\tGoal difference in the matches played between the teams in question;\n",
    "6.\tNumber of goals scored in the matches played between the teams in question;\n",
    "7.\tFair play points in all group matches (only one deduction can be applied to a player in a single match):\n",
    "    + Yellow card: −1 point;\n",
    "    + Indirect red card (second yellow card): −3 points;\n",
    "    + Direct red card: −4 points;\n",
    "    + Yellow card and direct red card: −5 points;\n",
    "8.\tDrawing of lots.\n",
    "\n",
    "Therefore, in order to model the group standings, we need to model scores and disciplinary actions separately as they distribute differently.\n",
    "\n",
    "However, referees make disciplinary decisions drastically differently in big tournaments like the World Cup with regular matches like friendlies. Referees’ decisions on yellow cards and red cards are highly subjective and influenced by many factors that are impossible to predict. Considering the fair points were the second last criteria to qualify, we adopted a simplistic approach to simulate the disciplinary actions in a match. We will model the yellow cards and red cards with a uniform distribution\n",
    "\n",
    "In the knockout stage, if a match is tied at the end of normal playing time, extra time is played (two periods of 15 minutes each) and followed, if necessary, by a penalty shoot-out to determine the winners [4].\n",
    "\n",
    "Therefore, we only need to model the scores in the knockout stage. Due to the difficulty to model extra time and penalty shoot-out results, we will continue to simulate the match outcome until a winner is determined.\n",
    "\n",
    "### Score Model\n",
    "\n",
    "To model the scores, we referenced a paper by M.J. Maher in 1982 [5]. In his paper, “Modelling association football scores”, Maher used Poisson distribution to model scores of soccer games. We referenced his model to build our model to simulate the match outcome.\n",
    "\n",
    "In our model, for a team of interest (Team A), the X denotes the number of goals the team scored in a match-up with an opponent (Team B). The model is denoted as the following:\n",
    "\n",
    "$X \\sim Pois(\\lambda),$\n",
    "\n",
    "$where\\: \\lambda=(attack\\: strength\\: of\\: Team\\: A)\\times(defense\\: strength\\: of\\: Team\\: B)\\times(average\\: goals\\: scored\\: of\\: all\\: the\\: teams)$\n",
    "\n",
    "The “attack strength” score and the “defense strength” score of the team of interest (Team A) is calculated by the following formula:\n",
    "\n",
    "$Attack\\: strength=\\dfrac{average\\: goals\\: scored\\: of\\: Team\\: A }{average\\: goals\\: scored\\: of\\: all\\: the\\: teams}$\n",
    "\n",
    "$Defense\\: strength=\\dfrac{average\\: goals\\: conceded\\: of\\: Team\\: A }{average\\: goals\\: conceded\\: of\\: all\\: the\\: teams}$\n",
    "\n",
    "From the [International football results dataset](https://www.kaggle.com/datasets/martj42/international-football-results-from-1872-to-2017), we extracted the goals scored and goals conceded in the matches played by teams in the 2022 FIFA World Cup since 2000. We then calculated an “attack strength” score and “defense strength” score for each team and export the scores as a CSV file. The CSV file is later used as an input for the simulation model to simulate the outcome for each match.\n",
    "\n",
    "The score model is included in the \"Score Model.ipynb\" file.\n",
    "\n",
    "## Simulation Model\n",
    "\n",
    "### Model Overview\n",
    "The following image depicts the overall modeling process \n",
    "<i>P.S. Images sometimes break. Image is attached as modeling_view.png under imgs folder</i>.\n",
    "\n",
    "![alt text](imgs/modeling_view.jpeg \"Modeling View\")\n",
    "\n",
    "File 'input_file.csv' includes the name of the countries, the group that that they belong to, and their group position as it was drawn. It also contains the home attack/defense scores, away attack and defence scores. The input file is generated from the 'score_model' notebook.\n",
    "\n",
    "File 'reference_score.csv' includes a reference value for the home and away score leverage based on the observed historical data. The reference scores are generated from the 'score_model' notebook.\n",
    "\n",
    "All the files are available within the data folder.\n",
    "\n",
    "### Code Structure\n",
    "The following image depicts the structure and flow of the coding of the simulation model.\n",
    "\n",
    "![alt text](imgs/code_view.jpeg \"Code Structure\")\n"
   ]
  },
  {
   "cell_type": "markdown",
   "metadata": {},
   "source": [
    "### Classes that will be used throughout the modeling process"
   ]
  },
  {
   "cell_type": "code",
   "execution_count": 1,
   "metadata": {},
   "outputs": [],
   "source": [
    "#define Team class with ranking and strength properties\n",
    "class Team:\n",
    "\n",
    "    def __init__(self, name, group,home_attack, home_defense, away_attack, away_defense, group_position):\n",
    "        self.name = name\n",
    "        self.group = group\n",
    "        self.home_attack = home_attack\n",
    "        self.home_defense = home_defense\n",
    "        self.away_attack = away_attack\n",
    "        self.away_defense = away_defense\n",
    "        self.group_position = group_position\n",
    "\n",
    "#define a Game class with 2 teams, home and away, home advantage and prediction\n",
    "class Game:\n",
    "    def __init__(self, game_number, home_team, away_team, home_advantage,is_group_stage,group):\n",
    "        self.game_number = game_number\n",
    "        self.home_team = home_team\n",
    "        self.away_team = away_team\n",
    "        self.home_advantage = home_advantage\n",
    "        self.is_group_stage = is_group_stage\n",
    "        self.group = group\n",
    "'''\n",
    "create a game result object that holds the result and cards of the football game\n",
    "'''\n",
    "class GameResult:\n",
    "    def __init__(self, game, home_goals, away_goals, home_yellow_cards, away_yellow_cards, home_red_cards, away_red_cards,group):\n",
    "        self.game = game\n",
    "        self.home_goals = home_goals\n",
    "        self.away_goals = away_goals\n",
    "        self.home_yellow_cards = home_yellow_cards\n",
    "        self.away_yellow_cards = away_yellow_cards\n",
    "        self.home_red_cards = home_red_cards\n",
    "        self.away_red_cards = away_red_cards\n",
    "        self.group = group\n",
    "'''\n",
    "Worldcup final results class that holds the final results of the world cup\n",
    "'''\n",
    "class WorldcupFinalResults:\n",
    "    def __init__(self, winner, runner_up, third_place, fourth_place, quarter_finalists, r16s):\n",
    "        self.winner = winner\n",
    "        self.runner_up = runner_up\n",
    "        self.third_place = third_place\n",
    "        self.fourth_place = fourth_place\n",
    "        self.quarter_finalists = quarter_finalists\n",
    "        self.r16s = r16s"
   ]
  },
  {
   "cell_type": "markdown",
   "metadata": {},
   "source": [
    "## Number of Replications\n",
    "The number of replications was defined by setting a target 95% confidence interval of +/- 0.01 for the team with the highest chance to win the competition. \n",
    "To calculate the final number of replications an initial simulation with 100 replications was done to have an estimation of the standard deviation. The final number of replications was then calculated as 7542.8. The model was then updated with the rounded up number."
   ]
  },
  {
   "cell_type": "code",
   "execution_count": 2,
   "metadata": {},
   "outputs": [],
   "source": [
    "import pandas as pd\n",
    "import numpy as np\n",
    "import scipy.stats as stats  # for calculating confidence intervals\n",
    "import math as math\n",
    "import matplotlib.pyplot as plt\n",
    "\n",
    "pd.options.mode.chained_assignment = None\n",
    "\n",
    "np.random.seed(1234)\n",
    "\n",
    "num_replications = 7543"
   ]
  },
  {
   "cell_type": "code",
   "execution_count": 3,
   "metadata": {},
   "outputs": [],
   "source": [
    "def initiate_input_data():\n",
    "    wc_teams_list = []\n",
    "    #reading the teams information from the csv file\n",
    "    team_data = pd.read_csv(\"data/input_file.csv\")\n",
    "    \n",
    "    #Create the list of team objects based on the input file\n",
    "    for i in range(32):\n",
    "        wc_teams_list.append(Team(team_data['Country'][i],team_data['Group'][i],team_data['home_attack_strength'][i],team_data['home_defense_strength'][i],team_data['away_attack_strength'][i],team_data['away_attack_strength'][i],team_data['Group_Position'][i]))\n",
    "\n",
    "    #reading the reference score (output of the score_model) from the csv file\n",
    "    ref_goals = pd.read_csv(\"data/reference_score.csv\",header=None)\n",
    "\n",
    "    return wc_teams_list,ref_goals"
   ]
  },
  {
   "cell_type": "code",
   "execution_count": 4,
   "metadata": {},
   "outputs": [],
   "source": [
    "#function that generates the games list based on the draw and the groups\n",
    "def generate_group_stage_games_list(wc_teams_list):\n",
    "    \n",
    "    temp_groups = [\"A\",\"B\",\"C\",\"D\",\"E\",\"F\",\"G\",\"H\"]\n",
    "    games_list = []\n",
    "    for group in temp_groups:\n",
    "        temp_list = []\n",
    "        \n",
    "        for i in range(32):\n",
    "            if wc_teams_list[i].group == group:\n",
    "                temp_list.append(wc_teams_list[i])\n",
    "        #append the 6 games of the group to the games list\n",
    "        games_list.append(Game(group+str(1),temp_list[0],temp_list[1],1,1,group))\n",
    "        games_list.append(Game(group+str(2),temp_list[2],temp_list[3],1,1,group))\n",
    "        games_list.append(Game(group+str(3),temp_list[0],temp_list[2],1,1,group))\n",
    "        games_list.append(Game(group+str(4),temp_list[1],temp_list[3],1,1,group))\n",
    "        games_list.append(Game(group+str(5),temp_list[0],temp_list[3],1,1,group))\n",
    "        games_list.append(Game(group+str(6),temp_list[1],temp_list[2],1,1,group))\n",
    "\n",
    "    return games_list"
   ]
  },
  {
   "cell_type": "code",
   "execution_count": 5,
   "metadata": {},
   "outputs": [],
   "source": [
    "#return the result of a game\n",
    "def get_game_result(game):\n",
    "    \n",
    "    team1 = game.home_team\n",
    "    team2 = game.away_team\n",
    "    \n",
    "    overal_scored_home = ref_goals.iloc[2,0]\n",
    "    overal_scored_away = ref_goals.iloc[2,0]\n",
    "\n",
    "    overall_score = (overal_scored_home+overal_scored_away)/2\n",
    "\n",
    "    team1_attack = (team1.home_attack+team1.away_attack)/2\n",
    "    team1_defense = (team1.home_defense+team1.away_defense)/2\n",
    "    team2_attack = (team2.home_attack+team2.away_attack)/2\n",
    "    team2_defense = (team2.home_defense+team2.away_defense)/2\n",
    "\n",
    "    lambda_1 = team1_attack * team2_defense * overall_score\n",
    "    lambda_2 = team2_attack * team1_defense * overall_score\n",
    "\n",
    "    home_goals = np.random.poisson(lambda_1*100)\n",
    "    away_goals = np.random.poisson(lambda_2*100)\n",
    "\n",
    "\n",
    "    home_yellow_cards = int(round (np.random.uniform(0,10),0))\n",
    "    away_yellow_cards = int(round (np.random.uniform(0,10),0))\n",
    "    home_red_cards = int(round (np.random.uniform(0,10),0))\n",
    "    away_red_cards = int(round (np.random.uniform(0,10),0))\n",
    "\n",
    "    return GameResult(game,home_goals,away_goals,home_yellow_cards,away_yellow_cards,home_red_cards,away_red_cards,game.group)"
   ]
  },
  {
   "cell_type": "code",
   "execution_count": 6,
   "metadata": {},
   "outputs": [],
   "source": [
    "#function to simulation the games in the group stage and get the results for each game\n",
    "def simulate_group_stage_games(games_list):\n",
    "    game_results_list = []\n",
    "\n",
    "    for game in games_list:\n",
    "        game_results_list.append(get_game_result(game))\n",
    "        \n",
    "    return game_results_list"
   ]
  },
  {
   "cell_type": "code",
   "execution_count": 7,
   "metadata": {},
   "outputs": [],
   "source": [
    "#Function to generate the bracket games based on the group stage results and the fifa world cup rules\n",
    "def generate_bracket_games(winners, runner_ups):\n",
    "    bracket_games_list = []\n",
    "\n",
    "    #rules of creating the bracket games from the group qualified teams and game number\n",
    "    game_num_index = 48\n",
    "    #Winner from Group1 plays against runner_up from Group2\n",
    "    Group1 = [\"A\",\"C\",\"D\",\"B\",\"E\",\"G\",\"F\",\"H\"]\n",
    "    Group2 = [\"B\",\"D\",\"C\",\"A\",\"F\",\"H\",\"E\",\"G\"]\n",
    "    \n",
    "    for j in range(8):\n",
    "        bracket_games_list.append(Game(game_num_index+j+1,winners[Group1[j]],runner_ups[Group2[j]],1,1,\"Bracket\"))\n",
    "\n",
    "    return bracket_games_list\n"
   ]
  },
  {
   "cell_type": "code",
   "execution_count": 8,
   "metadata": {},
   "outputs": [],
   "source": [
    "\n",
    "def grp_qualified_teams(game_results_list,wc_teams_list):\n",
    "    groups = [\"A\",\"B\",\"C\",\"D\",\"E\",\"F\",\"G\",\"H\"]\n",
    "    \n",
    "    #dictionaries to hold winners and runners\n",
    "    winners = {}\n",
    "    runner_ups = {}\n",
    "\n",
    "    #iterate over groups from A to H\n",
    "    for group in groups:\n",
    "    #get all the games of this group\n",
    "        group_games_results = [game for game in game_results_list if group == game.group]\n",
    "    \n",
    "        #get the teams for this group\n",
    "        group_teams = [team for team in wc_teams_list if team.group == group]\n",
    "        team_names = [team.name for team in group_teams]\n",
    "\n",
    "        #now that we have the teams and the matches we can start tallying the result\n",
    "        group_results = tally_group_results(team_names,group_games_results)\n",
    "        \n",
    "        #get the top two teams\n",
    "        group_winner, group_runner_up = get_top_2_teams(group_results, group_games_results)   \n",
    "\n",
    "        #get the wc_team objects for the winners and runner ups\n",
    "        #add the winner and runnerup to the dictionary\n",
    "        #get the first team object from the wc_teams_list with name matching the group_winner\n",
    "        \n",
    "        for team in wc_teams_list:\n",
    "            if team.name == group_winner:\n",
    "                winners[group] = team\n",
    "            if team.name == group_runner_up:\n",
    "                runner_ups[group] = team\n",
    "        \n",
    "        \n",
    "    return winners, runner_ups\n",
    "    \n",
    "def get_top_2_teams(group_table, group_game_results):\n",
    "    #get the group winner\n",
    "    group_winner = get_team_at_n_position(group_table, group_game_results, 1)\n",
    "    #get the group runner up\n",
    "    group_runner_up = get_team_at_n_position(group_table, group_game_results, 2)\n",
    "    \n",
    "    #add the group winner and runner up to the group qualified teams list\n",
    "    return group_winner,group_runner_up\n",
    "\n",
    "#get the teams that are tied at the nth position (either first or second spot)\n",
    "def get_team_at_n_position(group_table, group_game_results, group_position):\n",
    "    #use index instead of group position\n",
    "    n = group_position - 1\n",
    "    #sort the teams\n",
    "    group_table.sort_values(by=['Points','Goals Diff','Goals For'], ascending=False, inplace=True)\n",
    "    \n",
    "    #check if there are tied teams at this position\n",
    "    equal_points = group_table['Points'] == group_table['Points'].iloc[n]\n",
    "    equal_goals_diff = group_table['Goals Diff'] == group_table['Goals Diff'].iloc[n]\n",
    "    equal_goals_for = group_table['Goals For'] == group_table['Goals For'].iloc[n]\n",
    "    num_tied_teams = len(group_table[(equal_points) & (equal_goals_diff) & (equal_goals_for)])\n",
    "    \n",
    "    #if yes apply the tie breaking rules and return the team name\n",
    "    if num_tied_teams > 1:\n",
    "        sorted_group_results = break_the_tie(group_table[n:n+num_tied_teams], group_game_results)\n",
    "        return sorted_group_results.iloc[n]['Team Name']\n",
    "    \n",
    "    #if not then return the team name at the required position\n",
    "    return group_table.iloc[n]['Team Name']\n",
    "\n",
    "#In case there's a tie, go through the games and the previously mentioned tie breaking rules\n",
    "def break_the_tie(group_results, group_game_results):\n",
    "    #get the list of all team names\n",
    "    team_names = list(group_results['Team Name'])\n",
    "    \n",
    "    #get games between teams\n",
    "    teams_games_intergames = [game for game in group_game_results if (team_names[0] in [game.game.home_team.name, game.game.away_team.name]) & (team_names[1] in [game.game.home_team.name, game.game.away_team.name])]\n",
    "    \n",
    "    #rules 4 to 6\n",
    "    sorted_group_results = tally_group_results(team_names,teams_games_intergames)\n",
    "\n",
    "    #check if there's still a tie\n",
    "    equal_points = sorted_group_results['Points'] == sorted_group_results['Points'].iloc[0]\n",
    "    equal_goals_diff = sorted_group_results['Goals Diff'] == sorted_group_results['Goals Diff'].iloc[0]\n",
    "    equal_goals_for = sorted_group_results['Goals For'] == sorted_group_results['Goals For'].iloc[0]\n",
    "    num_tied_teams = len(sorted_group_results[(equal_points) & (equal_goals_diff) & (equal_goals_for)])\n",
    "\n",
    "    #if yes then apply rule 7 and find the team best fair play record\n",
    "    if num_tied_teams > 1:\n",
    "        sorted_group_results.sort_values(by=['Fair Play Points'], ascending=True, inplace=True)\n",
    "\n",
    "    #check if there's still a tie\n",
    "    equal_fairplay = sorted_group_results['Fair Play Points'] == sorted_group_results['Fair Play Points'].iloc[0]\n",
    "    num_tied_teams = len(sorted_group_results[equal_fairplay])\n",
    "    #if there's still a tie then we go to the random draw \n",
    "    if num_tied_teams > 1:\n",
    "        #randomly choose one of the tied teams\n",
    "        random_choice = np.random.choice(team_names)\n",
    "        #create a new column where the randomly chosen team has the value 0 and the rest 1\n",
    "        sorted_group_results['Random Choice'] = [1 if team_name != random_choice else 0 for team_name in sorted_group_results['Team Name']]\n",
    "        #sort the table by the Random Choice column\n",
    "        sorted_group_results.sort_values(by=['Random Choice'], ascending=True, inplace=True)\n",
    "        #drop the Random Choice column\n",
    "    \n",
    "    #return the sorted group results after applying the tie breaking rules\n",
    "    return sorted_group_results\n",
    "\n",
    "#aggergate all the results from the group matches into the final group table\n",
    "def tally_group_results(team_names,group_games_results):\n",
    "    group_results = {}\n",
    "    #Calculate Points, Goals For, Goals Against, Goals Diff, Fair Play Points\n",
    "    for team in team_names:\n",
    "        group_results[team] = {\"Points\":0,\"Goals For\":0,\"Goals Against\":0,\"Goals Diff\":0,\"Fair Play Points\":0}\n",
    "        \n",
    "    for game_res in group_games_results:\n",
    "        home_team_name = game_res.game.home_team.name\n",
    "        away_team_name = game_res.game.away_team.name\n",
    "        if game_res.home_goals == game_res.away_goals:\n",
    "            group_results[home_team_name][\"Points\"] += 1\n",
    "            group_results[away_team_name][\"Points\"] += 1\n",
    "        elif game_res.home_goals > game_res.away_goals:\n",
    "            group_results[home_team_name][\"Points\"] += 3\n",
    "        else:\n",
    "            group_results[away_team_name][\"Points\"] += 3\n",
    "        group_results[home_team_name][\"Goals For\"] += game_res.home_goals\n",
    "        group_results[home_team_name][\"Goals Against\"] += game_res.away_goals\n",
    "        group_results[away_team_name][\"Goals For\"] += game_res.away_goals\n",
    "        group_results[away_team_name][\"Goals Against\"] += game_res.home_goals\n",
    "        group_results[home_team_name][\"Goals Diff\"] += game_res.home_goals - game_res.away_goals\n",
    "        group_results[away_team_name][\"Goals Diff\"] += game_res.away_goals - game_res.home_goals\n",
    "        group_results[home_team_name][\"Fair Play Points\"] += game_res.home_yellow_cards + (game_res.home_red_cards*2)\n",
    "        group_results[away_team_name][\"Fair Play Points\"] += game_res.away_yellow_cards + (game_res.away_red_cards*2)\n",
    "\n",
    "    results = pd.DataFrame(group_results).transpose().reset_index()\n",
    "    results.columns = ['Team Name', 'Points', 'Goals For', 'Goals Against', 'Goals Diff', 'Fair Play Points']\n",
    "    return results"
   ]
  },
  {
   "cell_type": "code",
   "execution_count": 9,
   "metadata": {},
   "outputs": [],
   "source": [
    "#Helper function to get the winner of a game\n",
    "def get_winner_from_result(game_result):\n",
    "    rand = np.random.uniform(0,1)\n",
    "    if game_result.home_goals > game_result.away_goals:\n",
    "        winner = game_result.game.home_team\n",
    "    elif game_result.home_goals < game_result.away_goals:\n",
    "        winner = game_result.game.away_team\n",
    "    elif rand <= 0.5:\n",
    "        winner = game_result.game.home_team\n",
    "    else:\n",
    "        winner = game_result.game.away_team\n",
    "    return winner\n",
    "#Helper function to get the loser of a game\n",
    "def get_losing_team(game_result):\n",
    "    rand = np.random.uniform(0,1)\n",
    "    if game_result.home_goals < game_result.away_goals:\n",
    "        loser = game_result.game.home_team\n",
    "    elif game_result.home_goals > game_result.away_goals:\n",
    "        loser = game_result.game.away_team\n",
    "    elif rand <= 0.5:\n",
    "        loser = game_result.game.home_team\n",
    "    else:\n",
    "        loser = game_result.game.away_team\n",
    "    return loser\n",
    "\n",
    "def simulate_r16(bracket_games):\n",
    "    r16_game_results_list = []\n",
    "    \n",
    "    for game in bracket_games:\n",
    "        r16_game_results_list.append(get_game_result(game))\n",
    "\n",
    "    return r16_game_results_list\n",
    "\n",
    "def simulate_quarter_final(r16_results):\n",
    "    r16_winners = {}\n",
    "    q8_games_list = []\n",
    "    q8_game_results_list = []\n",
    "    game_num_list = [58,57,60,59]\n",
    "    Group1 = [53,49,55,51]\n",
    "    Group2 = [54,50,56,52]\n",
    "\n",
    "    #get the winners from previous r16 games\n",
    "    for game_result in r16_results:\n",
    "        r16_winners[game_result.game.game_number] = get_winner_from_result(game_result)\n",
    "\n",
    "    #create the games list for quarter final\n",
    "    for j in range(4):\n",
    "        q8_games_list.append(Game(game_num_list[j],r16_winners[Group1[j]],r16_winners[Group2[j]],1,1,\"Bracket\"))\n",
    "\n",
    "    #simulate the matches of the quarter final\n",
    "    for game in q8_games_list:\n",
    "        q8_game_results_list.append(get_game_result(game))\n",
    "    \n",
    "    #return the results\n",
    "    return q8_game_results_list\n",
    "\n",
    "\n",
    "def simulate_semi_final(q8_game_results_list):\n",
    "    q8_winners = {}\n",
    "    sf_games_list = []\n",
    "    sf_game_results_list = []\n",
    "    game_num_list = [61,62]\n",
    "    Group1 = [58,60]\n",
    "    Group2 = [57,59]\n",
    "    \n",
    "    #get the winners from the previous quarter final games\n",
    "    for game_result in q8_game_results_list:\n",
    "        q8_winners[game_result.game.game_number] = get_winner_from_result(game_result)\n",
    "\n",
    "    #create the games list for semi final\n",
    "    for j in range(2):\n",
    "        sf_games_list.append(Game(game_num_list[j],q8_winners[Group1[j]],q8_winners[Group2[j]],1,1,\"Bracket\"))\n",
    "\n",
    "    #simulate the semi final games\n",
    "    for game in sf_games_list:\n",
    "        sf_game_results_list.append(get_game_result(game))\n",
    "\n",
    "    return sf_game_results_list\n",
    "\n",
    "def simulate_3rd_place(sf_game_results):\n",
    "    third_place_teams = []\n",
    "    third_place_game = []\n",
    "    third_place_result = []\n",
    "    \n",
    "    for game_result in sf_game_results:\n",
    "        third_place_teams.append(get_losing_team(game_result))\n",
    "\n",
    "    third_place_game = Game(\"third_place\",third_place_teams[0],third_place_teams[1],1,1,\"KO\")\n",
    "\n",
    "    third_place_result = get_game_result(third_place_game)\n",
    "\n",
    "    winner = get_winner_from_result(third_place_result)\n",
    "    loser = get_losing_team(third_place_result)\n",
    "\n",
    "    return winner, loser\n",
    "\n",
    "def simulate_final(sf_game_results):\n",
    "    final_teams = []\n",
    "    for game_result in sf_game_results:\n",
    "        final_teams.append(get_winner_from_result(game_result))\n",
    "    final_game = Game(\"final\",final_teams[0],final_teams[1],1,1,\"KO\")\n",
    "    final_result = get_game_result(final_game)\n",
    "\n",
    "    winner = get_winner_from_result(final_result)\n",
    "    loser = get_losing_team(final_result)\n",
    "    \n",
    "    return winner, loser\n",
    "\n",
    "#Saving the results for final output analysis\n",
    "def save_results(winner,runner_up,third_place, fourth_place,quarter_final_res,r16_res,group_qualified_teams):\n",
    "    quarter_final_teams = [get_winner_from_result(res) for res in r16_res]\n",
    "\n",
    "    r16_teams = group_qualified_teams\n",
    "\n",
    "    worldcup_results_list.append(WorldcupFinalResults(winner,runner_up,third_place,fourth_place, quarter_final_teams,r16_teams))\n",
    "\n"
   ]
  },
  {
   "cell_type": "markdown",
   "metadata": {},
   "source": [
    "### Running 1 Simulation "
   ]
  },
  {
   "cell_type": "code",
   "execution_count": 10,
   "metadata": {},
   "outputs": [],
   "source": [
    "def run_a_worldcup():\n",
    "    \n",
    "    #generate the group stage games\n",
    "    games_list = generate_group_stage_games_list(wc_teams_list)\n",
    "    #simulate the group stage games\n",
    "    game_results_list = simulate_group_stage_games(games_list)\n",
    "    winners, runner_ups = grp_qualified_teams(game_results_list,wc_teams_list)\n",
    "    bracket_games = generate_bracket_games(winners,runner_ups)\n",
    "    #simulate the r16\n",
    "    r16_res = simulate_r16(bracket_games)\n",
    "    #simulate the quarter final\n",
    "    qf_res = simulate_quarter_final(r16_res)\n",
    "    #simulate the semi final\n",
    "    semi_results = simulate_semi_final(qf_res)\n",
    "    #simulate the 3rd place\n",
    "    third_place, fourth_place = simulate_3rd_place(semi_results)\n",
    "    #simulate the final\n",
    "    winner, runner_up = simulate_final(semi_results)\n",
    "    qual_teams = list(winners.values()) + list(runner_ups.values())\n",
    "    \n",
    "    #save the results\n",
    "    save_results(winner,runner_up,third_place, fourth_place, qf_res, r16_res, qual_teams)\n",
    "    return "
   ]
  },
  {
   "cell_type": "markdown",
   "metadata": {},
   "source": [
    "### Running The Whole Simulation Process"
   ]
  },
  {
   "cell_type": "code",
   "execution_count": 11,
   "metadata": {},
   "outputs": [],
   "source": [
    "worldcup_results_list = []\n",
    "files = initiate_input_data()\n",
    "wc_teams_list = files[0]\n",
    "ref_goals = files[1]\n",
    "\n",
    "for i in range(num_replications):\n",
    "    run_a_worldcup()"
   ]
  },
  {
   "cell_type": "markdown",
   "metadata": {},
   "source": [
    "### Aggregating Results for Output Analysis"
   ]
  },
  {
   "cell_type": "code",
   "execution_count": 12,
   "metadata": {},
   "outputs": [],
   "source": [
    "fields = ['Country']\n",
    "final_sim_results = pd.read_csv(\"data/input_file.csv\", usecols=fields)\n",
    "final_sim_results[\"R16\"] = 0\n",
    "final_sim_results[\"Quarter Final\"] = 0\n",
    "final_sim_results[\"Fourth\"] = 0\n",
    "final_sim_results[\"Third\"] = 0\n",
    "final_sim_results[\"Runner-up\"] = 0\n",
    "final_sim_results[\"Champion\"] = 0\n",
    "final_sim_results[\"lower_95_CI\"] = 1000.000\n",
    "final_sim_results[\"upper_95_CI\"] = 1000.000\n",
    "\n",
    "for i in range(32):\n",
    "    #calculate the percentage of each team occured in the r16s\n",
    "    count = 0\n",
    "    for j in range(num_replications):\n",
    "        for k in range(16):\n",
    "            if final_sim_results.iloc[i,0]== worldcup_results_list[j].r16s[k].name:\n",
    "                count = count +1\n",
    "    final_sim_results.iloc[i,1] = count/num_replications\n",
    "    \n",
    "    #calculate the percentage of each team occured in the quarter finals\n",
    "    count = 0\n",
    "    for j in range(num_replications):\n",
    "        for k in range(8):\n",
    "            if final_sim_results.iloc[i,0]== worldcup_results_list[j].quarter_finalists[k].name:\n",
    "                count = count +1\n",
    "    final_sim_results.iloc[i,2] = count/num_replications\n",
    "\n",
    "    #calculate the percentage of each team won the fourth place\n",
    "    count = 0\n",
    "    for j in range(num_replications):\n",
    "        \n",
    "        if final_sim_results.iloc[i,0]== worldcup_results_list[j].fourth_place.name:\n",
    "            count = count +1\n",
    "    final_sim_results.iloc[i,3] = count/num_replications\n",
    "\n",
    "    #calculate the percentage of each team won the third place\n",
    "    count = 0\n",
    "    for j in range(num_replications):\n",
    "        \n",
    "        if final_sim_results.iloc[i,0]== worldcup_results_list[j].third_place.name:\n",
    "            count = count +1\n",
    "    final_sim_results.iloc[i,4] = count/num_replications\n",
    "\n",
    "    #calculate the percentage of each team won the second place\n",
    "    count = 0\n",
    "    for j in range(num_replications):\n",
    "        \n",
    "        if final_sim_results.iloc[i,0]== worldcup_results_list[j].runner_up.name:\n",
    "            count = count +1\n",
    "    final_sim_results.iloc[i,5] = count/num_replications\n",
    "\n",
    "    #calculate the percentage of each team won the World Cup\n",
    "    count = 0\n",
    "    for j in range(num_replications):\n",
    "        \n",
    "        if final_sim_results.iloc[i,0]== worldcup_results_list[j].winner.name:\n",
    "            count = count +1\n",
    "    final_sim_results.iloc[i,6] = count /num_replications\n",
    "    stddev = math.sqrt(final_sim_results[\"Champion\"][i]*(1-final_sim_results[\"Champion\"][i]))\n",
    "    standard_error = stddev/math.sqrt(num_replications)\n",
    "    t_critical = stats.t.ppf(q = .975, df = num_replications-1)\n",
    "    final_sim_results[\"lower_95_CI\"][i] = final_sim_results[\"Champion\"][i] - t_critical*standard_error\n",
    "    final_sim_results[\"upper_95_CI\"][i] = final_sim_results[\"Champion\"][i] + t_critical*standard_error"
   ]
  },
  {
   "cell_type": "markdown",
   "metadata": {},
   "source": [
    "## Result"
   ]
  },
  {
   "cell_type": "code",
   "execution_count": 13,
   "metadata": {},
   "outputs": [
    {
     "data": {
      "text/html": [
       "<div>\n",
       "<style scoped>\n",
       "    .dataframe tbody tr th:only-of-type {\n",
       "        vertical-align: middle;\n",
       "    }\n",
       "\n",
       "    .dataframe tbody tr th {\n",
       "        vertical-align: top;\n",
       "    }\n",
       "\n",
       "    .dataframe thead th {\n",
       "        text-align: right;\n",
       "    }\n",
       "</style>\n",
       "<table border=\"1\" class=\"dataframe\">\n",
       "  <thead>\n",
       "    <tr style=\"text-align: right;\">\n",
       "      <th></th>\n",
       "      <th>Country</th>\n",
       "      <th>R16</th>\n",
       "      <th>Quarter Final</th>\n",
       "      <th>Fourth</th>\n",
       "      <th>Third</th>\n",
       "      <th>Runner-up</th>\n",
       "      <th>Champion</th>\n",
       "      <th>lower_95_CI</th>\n",
       "      <th>upper_95_CI</th>\n",
       "    </tr>\n",
       "  </thead>\n",
       "  <tbody>\n",
       "    <tr>\n",
       "      <th>21</th>\n",
       "      <td>Brazil</td>\n",
       "      <td>1.000000</td>\n",
       "      <td>0.997349</td>\n",
       "      <td>0.000663</td>\n",
       "      <td>0.023731</td>\n",
       "      <td>0.050908</td>\n",
       "      <td>0.870874</td>\n",
       "      <td>0.863305</td>\n",
       "      <td>0.878443</td>\n",
       "    </tr>\n",
       "    <tr>\n",
       "      <th>17</th>\n",
       "      <td>Belgium</td>\n",
       "      <td>1.000000</td>\n",
       "      <td>0.872862</td>\n",
       "      <td>0.038181</td>\n",
       "      <td>0.126342</td>\n",
       "      <td>0.369614</td>\n",
       "      <td>0.060321</td>\n",
       "      <td>0.054947</td>\n",
       "      <td>0.065694</td>\n",
       "    </tr>\n",
       "    <tr>\n",
       "      <th>19</th>\n",
       "      <td>Morocco</td>\n",
       "      <td>0.999735</td>\n",
       "      <td>0.684608</td>\n",
       "      <td>0.039639</td>\n",
       "      <td>0.079809</td>\n",
       "      <td>0.174732</td>\n",
       "      <td>0.025189</td>\n",
       "      <td>0.021652</td>\n",
       "      <td>0.028726</td>\n",
       "    </tr>\n",
       "    <tr>\n",
       "      <th>11</th>\n",
       "      <td>France</td>\n",
       "      <td>1.000000</td>\n",
       "      <td>0.924036</td>\n",
       "      <td>0.145300</td>\n",
       "      <td>0.267533</td>\n",
       "      <td>0.279730</td>\n",
       "      <td>0.023465</td>\n",
       "      <td>0.020049</td>\n",
       "      <td>0.026882</td>\n",
       "    </tr>\n",
       "    <tr>\n",
       "      <th>7</th>\n",
       "      <td>Argentina</td>\n",
       "      <td>0.999735</td>\n",
       "      <td>0.894339</td>\n",
       "      <td>0.321225</td>\n",
       "      <td>0.290601</td>\n",
       "      <td>0.028106</td>\n",
       "      <td>0.013655</td>\n",
       "      <td>0.011036</td>\n",
       "      <td>0.016274</td>\n",
       "    </tr>\n",
       "    <tr>\n",
       "      <th>14</th>\n",
       "      <td>Spain</td>\n",
       "      <td>1.000000</td>\n",
       "      <td>0.430730</td>\n",
       "      <td>0.002254</td>\n",
       "      <td>0.003314</td>\n",
       "      <td>0.006894</td>\n",
       "      <td>0.002651</td>\n",
       "      <td>0.001491</td>\n",
       "      <td>0.003812</td>\n",
       "    </tr>\n",
       "    <tr>\n",
       "      <th>4</th>\n",
       "      <td>England</td>\n",
       "      <td>0.919661</td>\n",
       "      <td>0.530956</td>\n",
       "      <td>0.086040</td>\n",
       "      <td>0.064431</td>\n",
       "      <td>0.030890</td>\n",
       "      <td>0.001856</td>\n",
       "      <td>0.000885</td>\n",
       "      <td>0.002828</td>\n",
       "    </tr>\n",
       "    <tr>\n",
       "      <th>2</th>\n",
       "      <td>Senegal</td>\n",
       "      <td>0.999867</td>\n",
       "      <td>0.551637</td>\n",
       "      <td>0.103142</td>\n",
       "      <td>0.049185</td>\n",
       "      <td>0.013655</td>\n",
       "      <td>0.000795</td>\n",
       "      <td>0.000159</td>\n",
       "      <td>0.001432</td>\n",
       "    </tr>\n",
       "    <tr>\n",
       "      <th>25</th>\n",
       "      <td>Portugal</td>\n",
       "      <td>0.993371</td>\n",
       "      <td>0.714968</td>\n",
       "      <td>0.048389</td>\n",
       "      <td>0.030359</td>\n",
       "      <td>0.029829</td>\n",
       "      <td>0.000663</td>\n",
       "      <td>0.000082</td>\n",
       "      <td>0.001244</td>\n",
       "    </tr>\n",
       "    <tr>\n",
       "      <th>3</th>\n",
       "      <td>Netherlands</td>\n",
       "      <td>1.000000</td>\n",
       "      <td>0.573114</td>\n",
       "      <td>0.119183</td>\n",
       "      <td>0.047992</td>\n",
       "      <td>0.011136</td>\n",
       "      <td>0.000265</td>\n",
       "      <td>-0.000102</td>\n",
       "      <td>0.000633</td>\n",
       "    </tr>\n",
       "    <tr>\n",
       "      <th>5</th>\n",
       "      <td>Iran</td>\n",
       "      <td>0.551902</td>\n",
       "      <td>0.200318</td>\n",
       "      <td>0.032878</td>\n",
       "      <td>0.008485</td>\n",
       "      <td>0.001723</td>\n",
       "      <td>0.000265</td>\n",
       "      <td>-0.000102</td>\n",
       "      <td>0.000633</td>\n",
       "    </tr>\n",
       "    <tr>\n",
       "      <th>6</th>\n",
       "      <td>United States</td>\n",
       "      <td>0.528437</td>\n",
       "      <td>0.143975</td>\n",
       "      <td>0.019091</td>\n",
       "      <td>0.002784</td>\n",
       "      <td>0.000265</td>\n",
       "      <td>0.000000</td>\n",
       "      <td>0.000000</td>\n",
       "      <td>0.000000</td>\n",
       "    </tr>\n",
       "    <tr>\n",
       "      <th>9</th>\n",
       "      <td>Mexico</td>\n",
       "      <td>0.927350</td>\n",
       "      <td>0.095585</td>\n",
       "      <td>0.018560</td>\n",
       "      <td>0.002519</td>\n",
       "      <td>0.000265</td>\n",
       "      <td>0.000000</td>\n",
       "      <td>0.000000</td>\n",
       "      <td>0.000000</td>\n",
       "    </tr>\n",
       "    <tr>\n",
       "      <th>26</th>\n",
       "      <td>Ghana</td>\n",
       "      <td>0.941270</td>\n",
       "      <td>0.244067</td>\n",
       "      <td>0.009413</td>\n",
       "      <td>0.002121</td>\n",
       "      <td>0.002121</td>\n",
       "      <td>0.000000</td>\n",
       "      <td>0.000000</td>\n",
       "      <td>0.000000</td>\n",
       "    </tr>\n",
       "    <tr>\n",
       "      <th>12</th>\n",
       "      <td>Denmark</td>\n",
       "      <td>0.965001</td>\n",
       "      <td>0.085775</td>\n",
       "      <td>0.014185</td>\n",
       "      <td>0.000663</td>\n",
       "      <td>0.000133</td>\n",
       "      <td>0.000000</td>\n",
       "      <td>0.000000</td>\n",
       "      <td>0.000000</td>\n",
       "    </tr>\n",
       "    <tr>\n",
       "      <th>15</th>\n",
       "      <td>Germany</td>\n",
       "      <td>0.866366</td>\n",
       "      <td>0.011534</td>\n",
       "      <td>0.001591</td>\n",
       "      <td>0.000133</td>\n",
       "      <td>0.000000</td>\n",
       "      <td>0.000000</td>\n",
       "      <td>0.000000</td>\n",
       "      <td>0.000000</td>\n",
       "    </tr>\n",
       "    <tr>\n",
       "      <th>23</th>\n",
       "      <td>Switzerland</td>\n",
       "      <td>0.670158</td>\n",
       "      <td>0.033674</td>\n",
       "      <td>0.000265</td>\n",
       "      <td>0.000000</td>\n",
       "      <td>0.000000</td>\n",
       "      <td>0.000000</td>\n",
       "      <td>0.000000</td>\n",
       "      <td>0.000000</td>\n",
       "    </tr>\n",
       "    <tr>\n",
       "      <th>22</th>\n",
       "      <td>Serbia</td>\n",
       "      <td>0.329842</td>\n",
       "      <td>0.008352</td>\n",
       "      <td>0.000000</td>\n",
       "      <td>0.000000</td>\n",
       "      <td>0.000000</td>\n",
       "      <td>0.000000</td>\n",
       "      <td>0.000000</td>\n",
       "      <td>0.000000</td>\n",
       "    </tr>\n",
       "    <tr>\n",
       "      <th>27</th>\n",
       "      <td>Uruguay</td>\n",
       "      <td>0.064696</td>\n",
       "      <td>0.001591</td>\n",
       "      <td>0.000000</td>\n",
       "      <td>0.000000</td>\n",
       "      <td>0.000000</td>\n",
       "      <td>0.000000</td>\n",
       "      <td>0.000000</td>\n",
       "      <td>0.000000</td>\n",
       "    </tr>\n",
       "    <tr>\n",
       "      <th>16</th>\n",
       "      <td>Japan</td>\n",
       "      <td>0.133634</td>\n",
       "      <td>0.000265</td>\n",
       "      <td>0.000000</td>\n",
       "      <td>0.000000</td>\n",
       "      <td>0.000000</td>\n",
       "      <td>0.000000</td>\n",
       "      <td>0.000000</td>\n",
       "      <td>0.000000</td>\n",
       "    </tr>\n",
       "    <tr>\n",
       "      <th>10</th>\n",
       "      <td>Poland</td>\n",
       "      <td>0.072915</td>\n",
       "      <td>0.000265</td>\n",
       "      <td>0.000000</td>\n",
       "      <td>0.000000</td>\n",
       "      <td>0.000000</td>\n",
       "      <td>0.000000</td>\n",
       "      <td>0.000000</td>\n",
       "      <td>0.000000</td>\n",
       "    </tr>\n",
       "    <tr>\n",
       "      <th>13</th>\n",
       "      <td>Tunisia</td>\n",
       "      <td>0.019488</td>\n",
       "      <td>0.000000</td>\n",
       "      <td>0.000000</td>\n",
       "      <td>0.000000</td>\n",
       "      <td>0.000000</td>\n",
       "      <td>0.000000</td>\n",
       "      <td>0.000000</td>\n",
       "      <td>0.000000</td>\n",
       "    </tr>\n",
       "    <tr>\n",
       "      <th>30</th>\n",
       "      <td>Peru</td>\n",
       "      <td>0.015511</td>\n",
       "      <td>0.000000</td>\n",
       "      <td>0.000000</td>\n",
       "      <td>0.000000</td>\n",
       "      <td>0.000000</td>\n",
       "      <td>0.000000</td>\n",
       "      <td>0.000000</td>\n",
       "      <td>0.000000</td>\n",
       "    </tr>\n",
       "    <tr>\n",
       "      <th>28</th>\n",
       "      <td>South Korea</td>\n",
       "      <td>0.000663</td>\n",
       "      <td>0.000000</td>\n",
       "      <td>0.000000</td>\n",
       "      <td>0.000000</td>\n",
       "      <td>0.000000</td>\n",
       "      <td>0.000000</td>\n",
       "      <td>0.000000</td>\n",
       "      <td>0.000000</td>\n",
       "    </tr>\n",
       "    <tr>\n",
       "      <th>20</th>\n",
       "      <td>Croatia</td>\n",
       "      <td>0.000265</td>\n",
       "      <td>0.000000</td>\n",
       "      <td>0.000000</td>\n",
       "      <td>0.000000</td>\n",
       "      <td>0.000000</td>\n",
       "      <td>0.000000</td>\n",
       "      <td>0.000000</td>\n",
       "      <td>0.000000</td>\n",
       "    </tr>\n",
       "    <tr>\n",
       "      <th>1</th>\n",
       "      <td>Ecuador</td>\n",
       "      <td>0.000133</td>\n",
       "      <td>0.000000</td>\n",
       "      <td>0.000000</td>\n",
       "      <td>0.000000</td>\n",
       "      <td>0.000000</td>\n",
       "      <td>0.000000</td>\n",
       "      <td>0.000000</td>\n",
       "      <td>0.000000</td>\n",
       "    </tr>\n",
       "    <tr>\n",
       "      <th>0</th>\n",
       "      <td>Qatar</td>\n",
       "      <td>0.000000</td>\n",
       "      <td>0.000000</td>\n",
       "      <td>0.000000</td>\n",
       "      <td>0.000000</td>\n",
       "      <td>0.000000</td>\n",
       "      <td>0.000000</td>\n",
       "      <td>0.000000</td>\n",
       "      <td>0.000000</td>\n",
       "    </tr>\n",
       "    <tr>\n",
       "      <th>8</th>\n",
       "      <td>Saudi Arabia</td>\n",
       "      <td>0.000000</td>\n",
       "      <td>0.000000</td>\n",
       "      <td>0.000000</td>\n",
       "      <td>0.000000</td>\n",
       "      <td>0.000000</td>\n",
       "      <td>0.000000</td>\n",
       "      <td>0.000000</td>\n",
       "      <td>0.000000</td>\n",
       "    </tr>\n",
       "    <tr>\n",
       "      <th>18</th>\n",
       "      <td>Canada</td>\n",
       "      <td>0.000000</td>\n",
       "      <td>0.000000</td>\n",
       "      <td>0.000000</td>\n",
       "      <td>0.000000</td>\n",
       "      <td>0.000000</td>\n",
       "      <td>0.000000</td>\n",
       "      <td>0.000000</td>\n",
       "      <td>0.000000</td>\n",
       "    </tr>\n",
       "    <tr>\n",
       "      <th>24</th>\n",
       "      <td>Cameroon</td>\n",
       "      <td>0.000000</td>\n",
       "      <td>0.000000</td>\n",
       "      <td>0.000000</td>\n",
       "      <td>0.000000</td>\n",
       "      <td>0.000000</td>\n",
       "      <td>0.000000</td>\n",
       "      <td>0.000000</td>\n",
       "      <td>0.000000</td>\n",
       "    </tr>\n",
       "    <tr>\n",
       "      <th>29</th>\n",
       "      <td>Scotland</td>\n",
       "      <td>0.000000</td>\n",
       "      <td>0.000000</td>\n",
       "      <td>0.000000</td>\n",
       "      <td>0.000000</td>\n",
       "      <td>0.000000</td>\n",
       "      <td>0.000000</td>\n",
       "      <td>0.000000</td>\n",
       "      <td>0.000000</td>\n",
       "    </tr>\n",
       "    <tr>\n",
       "      <th>31</th>\n",
       "      <td>Costa Rica</td>\n",
       "      <td>0.000000</td>\n",
       "      <td>0.000000</td>\n",
       "      <td>0.000000</td>\n",
       "      <td>0.000000</td>\n",
       "      <td>0.000000</td>\n",
       "      <td>0.000000</td>\n",
       "      <td>0.000000</td>\n",
       "      <td>0.000000</td>\n",
       "    </tr>\n",
       "  </tbody>\n",
       "</table>\n",
       "</div>"
      ],
      "text/plain": [
       "          Country       R16  Quarter Final    Fourth     Third  Runner-up  \\\n",
       "21         Brazil  1.000000       0.997349  0.000663  0.023731   0.050908   \n",
       "17        Belgium  1.000000       0.872862  0.038181  0.126342   0.369614   \n",
       "19        Morocco  0.999735       0.684608  0.039639  0.079809   0.174732   \n",
       "11         France  1.000000       0.924036  0.145300  0.267533   0.279730   \n",
       "7       Argentina  0.999735       0.894339  0.321225  0.290601   0.028106   \n",
       "14          Spain  1.000000       0.430730  0.002254  0.003314   0.006894   \n",
       "4         England  0.919661       0.530956  0.086040  0.064431   0.030890   \n",
       "2         Senegal  0.999867       0.551637  0.103142  0.049185   0.013655   \n",
       "25       Portugal  0.993371       0.714968  0.048389  0.030359   0.029829   \n",
       "3     Netherlands  1.000000       0.573114  0.119183  0.047992   0.011136   \n",
       "5            Iran  0.551902       0.200318  0.032878  0.008485   0.001723   \n",
       "6   United States  0.528437       0.143975  0.019091  0.002784   0.000265   \n",
       "9          Mexico  0.927350       0.095585  0.018560  0.002519   0.000265   \n",
       "26          Ghana  0.941270       0.244067  0.009413  0.002121   0.002121   \n",
       "12        Denmark  0.965001       0.085775  0.014185  0.000663   0.000133   \n",
       "15        Germany  0.866366       0.011534  0.001591  0.000133   0.000000   \n",
       "23    Switzerland  0.670158       0.033674  0.000265  0.000000   0.000000   \n",
       "22         Serbia  0.329842       0.008352  0.000000  0.000000   0.000000   \n",
       "27        Uruguay  0.064696       0.001591  0.000000  0.000000   0.000000   \n",
       "16          Japan  0.133634       0.000265  0.000000  0.000000   0.000000   \n",
       "10         Poland  0.072915       0.000265  0.000000  0.000000   0.000000   \n",
       "13        Tunisia  0.019488       0.000000  0.000000  0.000000   0.000000   \n",
       "30           Peru  0.015511       0.000000  0.000000  0.000000   0.000000   \n",
       "28    South Korea  0.000663       0.000000  0.000000  0.000000   0.000000   \n",
       "20        Croatia  0.000265       0.000000  0.000000  0.000000   0.000000   \n",
       "1         Ecuador  0.000133       0.000000  0.000000  0.000000   0.000000   \n",
       "0           Qatar  0.000000       0.000000  0.000000  0.000000   0.000000   \n",
       "8    Saudi Arabia  0.000000       0.000000  0.000000  0.000000   0.000000   \n",
       "18         Canada  0.000000       0.000000  0.000000  0.000000   0.000000   \n",
       "24       Cameroon  0.000000       0.000000  0.000000  0.000000   0.000000   \n",
       "29       Scotland  0.000000       0.000000  0.000000  0.000000   0.000000   \n",
       "31     Costa Rica  0.000000       0.000000  0.000000  0.000000   0.000000   \n",
       "\n",
       "    Champion  lower_95_CI  upper_95_CI  \n",
       "21  0.870874     0.863305     0.878443  \n",
       "17  0.060321     0.054947     0.065694  \n",
       "19  0.025189     0.021652     0.028726  \n",
       "11  0.023465     0.020049     0.026882  \n",
       "7   0.013655     0.011036     0.016274  \n",
       "14  0.002651     0.001491     0.003812  \n",
       "4   0.001856     0.000885     0.002828  \n",
       "2   0.000795     0.000159     0.001432  \n",
       "25  0.000663     0.000082     0.001244  \n",
       "3   0.000265    -0.000102     0.000633  \n",
       "5   0.000265    -0.000102     0.000633  \n",
       "6   0.000000     0.000000     0.000000  \n",
       "9   0.000000     0.000000     0.000000  \n",
       "26  0.000000     0.000000     0.000000  \n",
       "12  0.000000     0.000000     0.000000  \n",
       "15  0.000000     0.000000     0.000000  \n",
       "23  0.000000     0.000000     0.000000  \n",
       "22  0.000000     0.000000     0.000000  \n",
       "27  0.000000     0.000000     0.000000  \n",
       "16  0.000000     0.000000     0.000000  \n",
       "10  0.000000     0.000000     0.000000  \n",
       "13  0.000000     0.000000     0.000000  \n",
       "30  0.000000     0.000000     0.000000  \n",
       "28  0.000000     0.000000     0.000000  \n",
       "20  0.000000     0.000000     0.000000  \n",
       "1   0.000000     0.000000     0.000000  \n",
       "0   0.000000     0.000000     0.000000  \n",
       "8   0.000000     0.000000     0.000000  \n",
       "18  0.000000     0.000000     0.000000  \n",
       "24  0.000000     0.000000     0.000000  \n",
       "29  0.000000     0.000000     0.000000  \n",
       "31  0.000000     0.000000     0.000000  "
      ]
     },
     "execution_count": 13,
     "metadata": {},
     "output_type": "execute_result"
    }
   ],
   "source": [
    "final_sim_results.sort_values(by=['Champion','Third','Fourth','Quarter Final','R16'], ascending=False)"
   ]
  },
  {
   "cell_type": "code",
   "execution_count": 14,
   "metadata": {},
   "outputs": [
    {
     "data": {
      "application/vnd.plotly.v1+json": {
       "config": {
        "plotlyServerURL": "https://plot.ly"
       },
       "data": [
        {
         "alignmentgroup": "True",
         "customdata": [
          [
           0,
           0
          ],
          [
           0,
           0
          ],
          [
           0.00015911810153731087,
           0.001431760859088435
          ],
          [
           -0.00010233130010706934,
           0.0006326242869823179
          ],
          [
           0.0008845444830046701,
           0.00282750642512207
          ],
          [
           -0.00010233130010706934,
           0.0006326242869823179
          ],
          [
           0,
           0
          ],
          [
           0.011035614925678153,
           0.016274473898397146
          ],
          [
           0,
           0
          ],
          [
           0,
           0
          ],
          [
           0,
           0
          ],
          [
           0.020048786110464584,
           0.026882143227994915
          ],
          [
           0,
           0
          ],
          [
           0,
           0
          ],
          [
           0.0014907858443148226,
           0.0038121440244376628
          ],
          [
           0,
           0
          ],
          [
           0,
           0
          ],
          [
           0.054947179628576565,
           0.06569447488554249
          ],
          [
           0,
           0
          ],
          [
           0.02165211513864878,
           0.028725718614499837
          ],
          [
           0,
           0
          ],
          [
           0.8633047930081367,
           0.8784425223836173
          ],
          [
           0,
           0
          ],
          [
           0,
           0
          ],
          [
           0,
           0
          ],
          [
           0.00008194841139623217,
           0.0012437840557918893
          ],
          [
           0,
           0
          ],
          [
           0,
           0
          ],
          [
           0,
           0
          ],
          [
           0,
           0
          ],
          [
           0,
           0
          ],
          [
           0,
           0
          ]
         ],
         "hovertemplate": "Country=%{x}<br>Prob. of Winning the World Cup=%{marker.color}<br>lower_95_CI=%{customdata[0]}<br>upper_95_CI=%{customdata[1]}<extra></extra>",
         "legendgroup": "",
         "marker": {
          "color": [
           0,
           0,
           0.0007954394803128729,
           0.00026514649343762427,
           0.00185602545406337,
           0.00026514649343762427,
           0,
           0.01365504441203765,
           0,
           0,
           0,
           0.02346546466922975,
           0,
           0,
           0.0026514649343762427,
           0,
           0,
           0.06032082725705953,
           0,
           0.02518891687657431,
           0,
           0.870873657695877,
           0,
           0,
           0,
           0.0006628662335940607,
           0,
           0,
           0,
           0,
           0,
           0
          ],
          "coloraxis": "coloraxis",
          "pattern": {
           "shape": ""
          }
         },
         "name": "",
         "offsetgroup": "",
         "orientation": "v",
         "showlegend": false,
         "textposition": "auto",
         "type": "bar",
         "x": [
          "Qatar",
          "Ecuador",
          "Senegal",
          "Netherlands",
          "England",
          "Iran",
          "United States",
          "Argentina",
          "Saudi Arabia",
          "Mexico",
          "Poland",
          "France",
          "Denmark",
          "Tunisia",
          "Spain",
          "Germany",
          "Japan",
          "Belgium",
          "Canada",
          "Morocco",
          "Croatia",
          "Brazil",
          "Serbia",
          "Switzerland",
          "Cameroon",
          "Portugal",
          "Ghana",
          "Uruguay",
          "South Korea",
          "Scotland",
          "Peru",
          "Costa Rica"
         ],
         "xaxis": "x",
         "y": [
          0,
          0,
          0.0007954394803128729,
          0.00026514649343762427,
          0.00185602545406337,
          0.00026514649343762427,
          0,
          0.01365504441203765,
          0,
          0,
          0,
          0.02346546466922975,
          0,
          0,
          0.0026514649343762427,
          0,
          0,
          0.06032082725705953,
          0,
          0.02518891687657431,
          0,
          0.870873657695877,
          0,
          0,
          0,
          0.0006628662335940607,
          0,
          0,
          0,
          0,
          0,
          0
         ],
         "yaxis": "y"
        }
       ],
       "layout": {
        "barmode": "relative",
        "coloraxis": {
         "colorbar": {
          "title": {
           "text": "Prob. of Winning the World Cup"
          }
         },
         "colorscale": [
          [
           0,
           "#0d0887"
          ],
          [
           0.1111111111111111,
           "#46039f"
          ],
          [
           0.2222222222222222,
           "#7201a8"
          ],
          [
           0.3333333333333333,
           "#9c179e"
          ],
          [
           0.4444444444444444,
           "#bd3786"
          ],
          [
           0.5555555555555556,
           "#d8576b"
          ],
          [
           0.6666666666666666,
           "#ed7953"
          ],
          [
           0.7777777777777778,
           "#fb9f3a"
          ],
          [
           0.8888888888888888,
           "#fdca26"
          ],
          [
           1,
           "#f0f921"
          ]
         ]
        },
        "legend": {
         "tracegroupgap": 0
        },
        "template": {
         "data": {
          "bar": [
           {
            "error_x": {
             "color": "#2a3f5f"
            },
            "error_y": {
             "color": "#2a3f5f"
            },
            "marker": {
             "line": {
              "color": "#E5ECF6",
              "width": 0.5
             },
             "pattern": {
              "fillmode": "overlay",
              "size": 10,
              "solidity": 0.2
             }
            },
            "type": "bar"
           }
          ],
          "barpolar": [
           {
            "marker": {
             "line": {
              "color": "#E5ECF6",
              "width": 0.5
             },
             "pattern": {
              "fillmode": "overlay",
              "size": 10,
              "solidity": 0.2
             }
            },
            "type": "barpolar"
           }
          ],
          "carpet": [
           {
            "aaxis": {
             "endlinecolor": "#2a3f5f",
             "gridcolor": "white",
             "linecolor": "white",
             "minorgridcolor": "white",
             "startlinecolor": "#2a3f5f"
            },
            "baxis": {
             "endlinecolor": "#2a3f5f",
             "gridcolor": "white",
             "linecolor": "white",
             "minorgridcolor": "white",
             "startlinecolor": "#2a3f5f"
            },
            "type": "carpet"
           }
          ],
          "choropleth": [
           {
            "colorbar": {
             "outlinewidth": 0,
             "ticks": ""
            },
            "type": "choropleth"
           }
          ],
          "contour": [
           {
            "colorbar": {
             "outlinewidth": 0,
             "ticks": ""
            },
            "colorscale": [
             [
              0,
              "#0d0887"
             ],
             [
              0.1111111111111111,
              "#46039f"
             ],
             [
              0.2222222222222222,
              "#7201a8"
             ],
             [
              0.3333333333333333,
              "#9c179e"
             ],
             [
              0.4444444444444444,
              "#bd3786"
             ],
             [
              0.5555555555555556,
              "#d8576b"
             ],
             [
              0.6666666666666666,
              "#ed7953"
             ],
             [
              0.7777777777777778,
              "#fb9f3a"
             ],
             [
              0.8888888888888888,
              "#fdca26"
             ],
             [
              1,
              "#f0f921"
             ]
            ],
            "type": "contour"
           }
          ],
          "contourcarpet": [
           {
            "colorbar": {
             "outlinewidth": 0,
             "ticks": ""
            },
            "type": "contourcarpet"
           }
          ],
          "heatmap": [
           {
            "colorbar": {
             "outlinewidth": 0,
             "ticks": ""
            },
            "colorscale": [
             [
              0,
              "#0d0887"
             ],
             [
              0.1111111111111111,
              "#46039f"
             ],
             [
              0.2222222222222222,
              "#7201a8"
             ],
             [
              0.3333333333333333,
              "#9c179e"
             ],
             [
              0.4444444444444444,
              "#bd3786"
             ],
             [
              0.5555555555555556,
              "#d8576b"
             ],
             [
              0.6666666666666666,
              "#ed7953"
             ],
             [
              0.7777777777777778,
              "#fb9f3a"
             ],
             [
              0.8888888888888888,
              "#fdca26"
             ],
             [
              1,
              "#f0f921"
             ]
            ],
            "type": "heatmap"
           }
          ],
          "heatmapgl": [
           {
            "colorbar": {
             "outlinewidth": 0,
             "ticks": ""
            },
            "colorscale": [
             [
              0,
              "#0d0887"
             ],
             [
              0.1111111111111111,
              "#46039f"
             ],
             [
              0.2222222222222222,
              "#7201a8"
             ],
             [
              0.3333333333333333,
              "#9c179e"
             ],
             [
              0.4444444444444444,
              "#bd3786"
             ],
             [
              0.5555555555555556,
              "#d8576b"
             ],
             [
              0.6666666666666666,
              "#ed7953"
             ],
             [
              0.7777777777777778,
              "#fb9f3a"
             ],
             [
              0.8888888888888888,
              "#fdca26"
             ],
             [
              1,
              "#f0f921"
             ]
            ],
            "type": "heatmapgl"
           }
          ],
          "histogram": [
           {
            "marker": {
             "pattern": {
              "fillmode": "overlay",
              "size": 10,
              "solidity": 0.2
             }
            },
            "type": "histogram"
           }
          ],
          "histogram2d": [
           {
            "colorbar": {
             "outlinewidth": 0,
             "ticks": ""
            },
            "colorscale": [
             [
              0,
              "#0d0887"
             ],
             [
              0.1111111111111111,
              "#46039f"
             ],
             [
              0.2222222222222222,
              "#7201a8"
             ],
             [
              0.3333333333333333,
              "#9c179e"
             ],
             [
              0.4444444444444444,
              "#bd3786"
             ],
             [
              0.5555555555555556,
              "#d8576b"
             ],
             [
              0.6666666666666666,
              "#ed7953"
             ],
             [
              0.7777777777777778,
              "#fb9f3a"
             ],
             [
              0.8888888888888888,
              "#fdca26"
             ],
             [
              1,
              "#f0f921"
             ]
            ],
            "type": "histogram2d"
           }
          ],
          "histogram2dcontour": [
           {
            "colorbar": {
             "outlinewidth": 0,
             "ticks": ""
            },
            "colorscale": [
             [
              0,
              "#0d0887"
             ],
             [
              0.1111111111111111,
              "#46039f"
             ],
             [
              0.2222222222222222,
              "#7201a8"
             ],
             [
              0.3333333333333333,
              "#9c179e"
             ],
             [
              0.4444444444444444,
              "#bd3786"
             ],
             [
              0.5555555555555556,
              "#d8576b"
             ],
             [
              0.6666666666666666,
              "#ed7953"
             ],
             [
              0.7777777777777778,
              "#fb9f3a"
             ],
             [
              0.8888888888888888,
              "#fdca26"
             ],
             [
              1,
              "#f0f921"
             ]
            ],
            "type": "histogram2dcontour"
           }
          ],
          "mesh3d": [
           {
            "colorbar": {
             "outlinewidth": 0,
             "ticks": ""
            },
            "type": "mesh3d"
           }
          ],
          "parcoords": [
           {
            "line": {
             "colorbar": {
              "outlinewidth": 0,
              "ticks": ""
             }
            },
            "type": "parcoords"
           }
          ],
          "pie": [
           {
            "automargin": true,
            "type": "pie"
           }
          ],
          "scatter": [
           {
            "marker": {
             "colorbar": {
              "outlinewidth": 0,
              "ticks": ""
             }
            },
            "type": "scatter"
           }
          ],
          "scatter3d": [
           {
            "line": {
             "colorbar": {
              "outlinewidth": 0,
              "ticks": ""
             }
            },
            "marker": {
             "colorbar": {
              "outlinewidth": 0,
              "ticks": ""
             }
            },
            "type": "scatter3d"
           }
          ],
          "scattercarpet": [
           {
            "marker": {
             "colorbar": {
              "outlinewidth": 0,
              "ticks": ""
             }
            },
            "type": "scattercarpet"
           }
          ],
          "scattergeo": [
           {
            "marker": {
             "colorbar": {
              "outlinewidth": 0,
              "ticks": ""
             }
            },
            "type": "scattergeo"
           }
          ],
          "scattergl": [
           {
            "marker": {
             "colorbar": {
              "outlinewidth": 0,
              "ticks": ""
             }
            },
            "type": "scattergl"
           }
          ],
          "scattermapbox": [
           {
            "marker": {
             "colorbar": {
              "outlinewidth": 0,
              "ticks": ""
             }
            },
            "type": "scattermapbox"
           }
          ],
          "scatterpolar": [
           {
            "marker": {
             "colorbar": {
              "outlinewidth": 0,
              "ticks": ""
             }
            },
            "type": "scatterpolar"
           }
          ],
          "scatterpolargl": [
           {
            "marker": {
             "colorbar": {
              "outlinewidth": 0,
              "ticks": ""
             }
            },
            "type": "scatterpolargl"
           }
          ],
          "scatterternary": [
           {
            "marker": {
             "colorbar": {
              "outlinewidth": 0,
              "ticks": ""
             }
            },
            "type": "scatterternary"
           }
          ],
          "surface": [
           {
            "colorbar": {
             "outlinewidth": 0,
             "ticks": ""
            },
            "colorscale": [
             [
              0,
              "#0d0887"
             ],
             [
              0.1111111111111111,
              "#46039f"
             ],
             [
              0.2222222222222222,
              "#7201a8"
             ],
             [
              0.3333333333333333,
              "#9c179e"
             ],
             [
              0.4444444444444444,
              "#bd3786"
             ],
             [
              0.5555555555555556,
              "#d8576b"
             ],
             [
              0.6666666666666666,
              "#ed7953"
             ],
             [
              0.7777777777777778,
              "#fb9f3a"
             ],
             [
              0.8888888888888888,
              "#fdca26"
             ],
             [
              1,
              "#f0f921"
             ]
            ],
            "type": "surface"
           }
          ],
          "table": [
           {
            "cells": {
             "fill": {
              "color": "#EBF0F8"
             },
             "line": {
              "color": "white"
             }
            },
            "header": {
             "fill": {
              "color": "#C8D4E3"
             },
             "line": {
              "color": "white"
             }
            },
            "type": "table"
           }
          ]
         },
         "layout": {
          "annotationdefaults": {
           "arrowcolor": "#2a3f5f",
           "arrowhead": 0,
           "arrowwidth": 1
          },
          "autotypenumbers": "strict",
          "coloraxis": {
           "colorbar": {
            "outlinewidth": 0,
            "ticks": ""
           }
          },
          "colorscale": {
           "diverging": [
            [
             0,
             "#8e0152"
            ],
            [
             0.1,
             "#c51b7d"
            ],
            [
             0.2,
             "#de77ae"
            ],
            [
             0.3,
             "#f1b6da"
            ],
            [
             0.4,
             "#fde0ef"
            ],
            [
             0.5,
             "#f7f7f7"
            ],
            [
             0.6,
             "#e6f5d0"
            ],
            [
             0.7,
             "#b8e186"
            ],
            [
             0.8,
             "#7fbc41"
            ],
            [
             0.9,
             "#4d9221"
            ],
            [
             1,
             "#276419"
            ]
           ],
           "sequential": [
            [
             0,
             "#0d0887"
            ],
            [
             0.1111111111111111,
             "#46039f"
            ],
            [
             0.2222222222222222,
             "#7201a8"
            ],
            [
             0.3333333333333333,
             "#9c179e"
            ],
            [
             0.4444444444444444,
             "#bd3786"
            ],
            [
             0.5555555555555556,
             "#d8576b"
            ],
            [
             0.6666666666666666,
             "#ed7953"
            ],
            [
             0.7777777777777778,
             "#fb9f3a"
            ],
            [
             0.8888888888888888,
             "#fdca26"
            ],
            [
             1,
             "#f0f921"
            ]
           ],
           "sequentialminus": [
            [
             0,
             "#0d0887"
            ],
            [
             0.1111111111111111,
             "#46039f"
            ],
            [
             0.2222222222222222,
             "#7201a8"
            ],
            [
             0.3333333333333333,
             "#9c179e"
            ],
            [
             0.4444444444444444,
             "#bd3786"
            ],
            [
             0.5555555555555556,
             "#d8576b"
            ],
            [
             0.6666666666666666,
             "#ed7953"
            ],
            [
             0.7777777777777778,
             "#fb9f3a"
            ],
            [
             0.8888888888888888,
             "#fdca26"
            ],
            [
             1,
             "#f0f921"
            ]
           ]
          },
          "colorway": [
           "#636efa",
           "#EF553B",
           "#00cc96",
           "#ab63fa",
           "#FFA15A",
           "#19d3f3",
           "#FF6692",
           "#B6E880",
           "#FF97FF",
           "#FECB52"
          ],
          "font": {
           "color": "#2a3f5f"
          },
          "geo": {
           "bgcolor": "white",
           "lakecolor": "white",
           "landcolor": "#E5ECF6",
           "showlakes": true,
           "showland": true,
           "subunitcolor": "white"
          },
          "hoverlabel": {
           "align": "left"
          },
          "hovermode": "closest",
          "mapbox": {
           "style": "light"
          },
          "paper_bgcolor": "white",
          "plot_bgcolor": "#E5ECF6",
          "polar": {
           "angularaxis": {
            "gridcolor": "white",
            "linecolor": "white",
            "ticks": ""
           },
           "bgcolor": "#E5ECF6",
           "radialaxis": {
            "gridcolor": "white",
            "linecolor": "white",
            "ticks": ""
           }
          },
          "scene": {
           "xaxis": {
            "backgroundcolor": "#E5ECF6",
            "gridcolor": "white",
            "gridwidth": 2,
            "linecolor": "white",
            "showbackground": true,
            "ticks": "",
            "zerolinecolor": "white"
           },
           "yaxis": {
            "backgroundcolor": "#E5ECF6",
            "gridcolor": "white",
            "gridwidth": 2,
            "linecolor": "white",
            "showbackground": true,
            "ticks": "",
            "zerolinecolor": "white"
           },
           "zaxis": {
            "backgroundcolor": "#E5ECF6",
            "gridcolor": "white",
            "gridwidth": 2,
            "linecolor": "white",
            "showbackground": true,
            "ticks": "",
            "zerolinecolor": "white"
           }
          },
          "shapedefaults": {
           "line": {
            "color": "#2a3f5f"
           }
          },
          "ternary": {
           "aaxis": {
            "gridcolor": "white",
            "linecolor": "white",
            "ticks": ""
           },
           "baxis": {
            "gridcolor": "white",
            "linecolor": "white",
            "ticks": ""
           },
           "bgcolor": "#E5ECF6",
           "caxis": {
            "gridcolor": "white",
            "linecolor": "white",
            "ticks": ""
           }
          },
          "title": {
           "x": 0.05
          },
          "xaxis": {
           "automargin": true,
           "gridcolor": "white",
           "linecolor": "white",
           "ticks": "",
           "title": {
            "standoff": 15
           },
           "zerolinecolor": "white",
           "zerolinewidth": 2
          },
          "yaxis": {
           "automargin": true,
           "gridcolor": "white",
           "linecolor": "white",
           "ticks": "",
           "title": {
            "standoff": 15
           },
           "zerolinecolor": "white",
           "zerolinewidth": 2
          }
         }
        },
        "title": {
         "text": "Chances by Country of Winning the World Cup"
        },
        "xaxis": {
         "anchor": "y",
         "domain": [
          0,
          1
         ],
         "title": {
          "text": "Country"
         }
        },
        "yaxis": {
         "anchor": "x",
         "domain": [
          0,
          1
         ],
         "title": {
          "text": "Prob. of Winning the World Cup"
         }
        }
       }
      }
     },
     "metadata": {},
     "output_type": "display_data"
    }
   ],
   "source": [
    "import plotly.express as px\n",
    "\n",
    "px.bar(final_sim_results, x=\"Country\", y=\"Champion\", color=\"Champion\", color_discrete_sequence=px.colors.qualitative.Alphabet, hover_data=['Champion','lower_95_CI','upper_95_CI'],labels={'Champion':'Prob. of Winning the World Cup'}, \n",
    "title=\"Chances by Country of Winning the World Cup\")\n"
   ]
  },
  {
   "cell_type": "markdown",
   "metadata": {},
   "source": [
    "## Conclusion\n",
    "From the result above, Brazil has the highest chance to win the World Cup Champion by winning 87.1% of the simulation. Belgium, Morocco, France, and Argentina are the top five teams with the chances of winning the World Cup Champion, but all of them only won less than 7% of the simulation each.\n",
    "\n",
    "Another factor that plays a part is the group matchups, where the luck of the draw favors teams who have a higher attack/defense score differentials within their group. This can be seen with countries such as Spain having a 99% chance of qualifying through the group stages while others like Canada have a 0% chance.\n",
    "\n",
    "Overall, the model behaves as expected, but limited in historic match data skews its output to favor teams who have scored high and conceded less regardless of the caliber of the match.\n",
    "\n",
    "## Discussions\n",
    "From our result, Brazil has an overwhelming chance to win the World Cup Champion. Even though Brazil is one of the top favorites, it is unexpected to see such a dominating advantage.\n",
    "\n",
    "Our score model predicts a match outcome based on historical data of past match outcomes. In essence, the scoring model is biased by the data itself, where the quality of matchups is not being taken into account. Our efforts to remedy that fact are beyond the scope and time available for this project.\n",
    "\n",
    "Maher, the original Poisson model author, fit the model with data of teams in the same leagues with a round-robin format in one season, which is significantly different from how we modeled our data. National teams mostly play in tournaments and never play in leagues. In addition, the FIFA World Cup is a quadrennial event with different teams each year. We had to include non-World Cup games to build the model. FIFA World Cup includes a round-robin group stage and a knockout stage. Maher’s model may or may not be suitable to predict the knockout stage. Therefore, the accuracy of the score model needs to be further investigated.\n",
    "\n",
    "We included data from 2014 and onwards. However, the sport of soccer and the players are continuously changing over the years. We here propose another way to model the match outcomes by including the players. We couldn’t achieve this as the squad for each team has not been selected.\n",
    "\n",
    "## References\n",
    "[1] Wikipedia. “2022 FIFA World Cup”. https://en.wikipedia.org/wiki/2022_FIFA_World_Cup\n",
    "\n",
    "[2] Jürisoo, Mart. “International football results from 1872 to 2021”. *Kaggle* (2022). https://www.kaggle.com/datasets/martj42/international-football-results-from-1872-to-2017\n",
    "\n",
    "[3] FIFA. “FIFA World Cup Qatar 2022 – Match Schedule”. (2022). https://digitalhub.fifa.com/m/6a616c6cf19bc57a/original/FWC-2022-Match-Schedule.pdf\n",
    "\n",
    "[4] FIFA. “Regulations – FIFA World Cup Qatar 2022”. (2021). https://digitalhub.fifa.com/m/2744a0a5e3ded185/original/FIFA-World-Cup-Qatar-2022-Regulations_EN.pdf\n",
    "\n",
    "[5] Maher, Michael J. “Modelling association football scores”. *Statistica Neerlandica* 36.3 (1982): 109-118."
   ]
  }
 ],
 "metadata": {
  "interpreter": {
   "hash": "a59f9fdc9d6e9f3dc8048ca9102760115e9f2281d6250c7f7ebbccc2210280f3"
  },
  "kernelspec": {
   "display_name": "Python 3 (ipykernel)",
   "language": "python",
   "name": "python3"
  },
  "language_info": {
   "codemirror_mode": {
    "name": "ipython",
    "version": 3
   },
   "file_extension": ".py",
   "mimetype": "text/x-python",
   "name": "python",
   "nbconvert_exporter": "python",
   "pygments_lexer": "ipython3",
   "version": "3.9.12"
  }
 },
 "nbformat": 4,
 "nbformat_minor": 2
}
